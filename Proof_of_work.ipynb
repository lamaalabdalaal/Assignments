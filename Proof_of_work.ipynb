{
 "cells": [
  {
   "cell_type": "markdown",
   "id": "ed5ef174-3f02-4334-8a68-bf11c5da7ff5",
   "metadata": {},
   "source": [
    "# Lama Alabdalaal - Proof of Work"
   ]
  },
  {
   "cell_type": "markdown",
   "id": "754806bd-0f0c-4ba8-b986-7d5681eed86e",
   "metadata": {},
   "source": [
    "### Import needed libraries"
   ]
  },
  {
   "cell_type": "code",
   "execution_count": 1,
   "id": "96c286a0-5f75-4298-8313-950d9f88957b",
   "metadata": {},
   "outputs": [],
   "source": [
    "import hashlib # imports library with SHA-256 hashing algo\n",
    "import datetime # imports library to track time"
   ]
  },
  {
   "cell_type": "markdown",
   "id": "9a727af2-b6ad-400c-bfe4-caf7aa81b045",
   "metadata": {},
   "source": [
    "### The amount of required zeros is 7 "
   ]
  },
  {
   "cell_type": "code",
   "execution_count": 2,
   "id": "c4071f36-3a13-4693-98d5-f95da8a7c646",
   "metadata": {},
   "outputs": [
    {
     "name": "stdout",
     "output_type": "stream",
     "text": [
      "The hash is: 0000000399c6aea5ad0c709a9bc331a3ed6494702bd1d129d8c817a0257a1462\n",
      "The nonce is: 665783\n",
      "Time elapsed: 0:00:00.751034\n"
     ]
    }
   ],
   "source": [
    "t1 = datetime.datetime.now() # start time\n",
    "nonce = 1 # Starts the nonce at 1\n",
    "\n",
    "solution = False\n",
    "while solution == False: # loop until true\n",
    "    our_hash = hashlib.sha256(str(nonce).encode()).hexdigest() # inputs nonce into hash function\n",
    "    if our_hash[:7] == '0000000': # look for hash with 7 proceeding zeros\n",
    "        solution =True # those who find the solution will have 'proved' they put in 'work'\n",
    "    nonce +=1 # increase nonce by 1 and try again\n",
    "    \n",
    "t2 = datetime.datetime.now() # end time\n",
    "duration = t2 - t1 # time elapsed\n",
    "\n",
    "print (\"The hash is:\",our_hash)\n",
    "print (\"The nonce is:\",nonce)    \n",
    "print (\"Time elapsed:\",duration)"
   ]
  },
  {
   "cell_type": "markdown",
   "id": "20dee126-a99d-4fc5-93a9-ba27048940b4",
   "metadata": {},
   "source": [
    "### Increasing the amount of required zeros from 7 to 8"
   ]
  },
  {
   "cell_type": "code",
   "execution_count": 3,
   "id": "cf74b108-3d9d-4a07-a4bf-3e42a229dbf0",
   "metadata": {},
   "outputs": [
    {
     "name": "stdout",
     "output_type": "stream",
     "text": [
      "The hash is: 00000000690ed426ccf17803ebe2bd0884bcd58a1bb5e7477ead3645f356e7a9\n",
      "The nonce is: 426479725\n",
      "Time elapsed: 0:07:36.278525\n"
     ]
    }
   ],
   "source": [
    "t1 = datetime.datetime.now() # start time\n",
    "nonce = 1 # Starts the nonce at 1\n",
    "\n",
    "solution = False\n",
    "while solution == False: # loop until true\n",
    "    our_hash = hashlib.sha256(str(nonce).encode()).hexdigest() # inputs nonce into hash function\n",
    "    if our_hash[:8] == '00000000': # look for hash with 8 proceeding zeros\n",
    "        solution =True # those who find the solution will have 'proved' they put in 'work'\n",
    "    nonce +=1 # increase nonce by 1 and try again\n",
    "t2 = datetime.datetime.now() # end time\n",
    "\n",
    "duration = t2 - t1 # time elapsed\n",
    "\n",
    "print (\"The hash is:\",our_hash)\n",
    "print (\"The nonce is:\",nonce)    \n",
    "print (\"Time elapsed:\",duration)"
   ]
  },
  {
   "cell_type": "code",
   "execution_count": null,
   "id": "48f841e4-1bac-410d-a47d-63d119652c1c",
   "metadata": {},
   "outputs": [],
   "source": []
  }
 ],
 "metadata": {
  "kernelspec": {
   "display_name": "Python 3",
   "language": "python",
   "name": "python3"
  },
  "language_info": {
   "codemirror_mode": {
    "name": "ipython",
    "version": 3
   },
   "file_extension": ".py",
   "mimetype": "text/x-python",
   "name": "python",
   "nbconvert_exporter": "python",
   "pygments_lexer": "ipython3",
   "version": "3.8.8"
  }
 },
 "nbformat": 4,
 "nbformat_minor": 5
}

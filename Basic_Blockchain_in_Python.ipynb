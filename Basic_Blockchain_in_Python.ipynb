{
 "cells": [
  {
   "cell_type": "markdown",
   "id": "d1d552d9-e15b-498e-9706-40a2a8c3141e",
   "metadata": {},
   "source": [
    "# Basic Blockchain in Python - Assignment W9"
   ]
  },
  {
   "cell_type": "code",
   "execution_count": 1,
   "id": "70ab6e7d-747b-44f7-ae7c-e6d6c76ea0db",
   "metadata": {},
   "outputs": [],
   "source": [
    "# Import needed libraries \n",
    "\n",
    "import hashlib\n",
    "import time\n",
    "import json"
   ]
  },
  {
   "cell_type": "markdown",
   "id": "654fae80-a0fd-456e-a7a0-90bb6649e2ac",
   "metadata": {},
   "source": [
    "Let's define each Block to have as properties: \n",
    "\n",
    "     An index: Some non-negative integer indicating which block number it is in the chain.\n",
    "\n",
    "     A list of records. Let's call these transactions.\n",
    "\n",
    "     A timestamp. Let's call this timestamp.\n",
    "\n",
    "     A hash of the current block. Let's call this property hash.\n",
    "\n",
    "    The backwards linking hash to the previous block. Let's call this previous_hash.\n",
    "\n",
    "    A number-used-once or nonce; as a property called nonce. \n",
    "    \n",
    "For methods we would like our Block class to have: \n",
    "\n",
    "    A constructor. (these are always __init__ in Python)\n",
    "    A method to compute it's hash. Let's call this compute_hash."
   ]
  },
  {
   "cell_type": "code",
   "execution_count": 2,
   "id": "76c4ee31-d84c-4234-a6d0-106e14a2884e",
   "metadata": {},
   "outputs": [],
   "source": [
    "# Generate some transactions\n",
    "\n",
    "tx_1 = {\n",
    "   \"addr_from\": \"3J98t1WpEZ73CNmQviecrnyiWrnqRhWNLy\",\n",
    "   \"addr_to\": \"1BvBMSEYstWetqTFn5Au4m4GFg9xJaNVN2\",   \n",
    "   \"amount\": 95.00\n",
    "}\n",
    "\n",
    "tx_2 = {\n",
    "   \"addr_from\": \"1Bhghiojjjo7564hknkfvenyilkkhuafd\",\n",
    "   \"addr_to\": \"1BvBMSEYstWetqTFn5Au4m4GFg9xJaNVN2\",   \n",
    "   \"amount\": 99.00\n",
    "}\n"
   ]
  },
  {
   "cell_type": "code",
   "execution_count": 3,
   "id": "a882a5fe-9c37-45a0-ad74-71d105bbd67b",
   "metadata": {},
   "outputs": [],
   "source": [
    "# Create our Block class \n",
    "\n",
    "class Block():\n",
    "    def __init__(self,        # Call the construcor\n",
    "                 index:int = 0, \n",
    "                 transactions:list = [],\n",
    "                 timestamp:int = 0,\n",
    "                 cur_hash = \" \", \n",
    "                 previous_hash = \" \",\n",
    "                 nonce:int =0):\n",
    "        \n",
    "        \n",
    "        self.index:int = index, # index is some non-negative integer indicating which block number it is in the chain.\n",
    "        self.transactions:list = transactions, # transactions are a  list of records.\n",
    "        self.timestamp:int = timestamp, # timestamp\n",
    "        self.hash = cur_hash, # current hash\n",
    "        self.previous_hash = previous_hash, # treated as the backwards linking hash to the previous block\n",
    "        self.nonce:int = nonce # A number-used-once or nonce\n",
    "            \n",
    "    def compute_hash(self) -> str:\n",
    "        \n",
    "        block_string = json.dumps(self.__dict__, sort_keys=True)  \n",
    "        return hashlib.sha256(block_string.encode()).hexdigest()  # Return our computed hash based on a JSON encoding of our block"
   ]
  },
  {
   "cell_type": "code",
   "execution_count": 4,
   "id": "e3174b0b-9a7c-44ed-b063-01e6e19f241d",
   "metadata": {},
   "outputs": [],
   "source": [
    "b = Block()"
   ]
  },
  {
   "cell_type": "code",
   "execution_count": 5,
   "id": "1adb6dc9-b40a-43a2-a383-0c2a8fa1e2ed",
   "metadata": {},
   "outputs": [
    {
     "data": {
      "text/plain": [
       "'3c655d60d542dce66c40f8463a10072377ad7ec7e1354bd1a2198667454300da'"
      ]
     },
     "execution_count": 5,
     "metadata": {},
     "output_type": "execute_result"
    }
   ],
   "source": [
    "b.compute_hash()"
   ]
  },
  {
   "cell_type": "code",
   "execution_count": 6,
   "id": "c38486e6-ce31-40dd-aaba-ae91cc2910b7",
   "metadata": {
    "tags": []
   },
   "outputs": [],
   "source": [
    "# Create our Blockchain Class\n",
    "# Write the code for unconfirmed_transactions property. \n",
    "# Write the code for chain property.\n",
    "# Add and initialize the difficulty property. \n",
    "# Create genesis_block()\n",
    "# Create other methods\n",
    "\n",
    "class Blockchain:     \n",
    "    def __init__(self):\n",
    "        self.unconfirmed_transactions: List[dict] = []\n",
    "        self.chain:List[Block] = []\n",
    "        self.difficulty:int = 2\n",
    "        self.create_genesis_block()\n",
    "    \n",
    "    def get_last_block(self) -> Block:\n",
    "        return self.chain[-1]\n",
    "        \n",
    "    def create_genesis_block(self):\n",
    "        genesis_block = Block(index = 0,transactions = [],timestamp = time.time(),previous_hash = \"0\")\n",
    "        genesis_block.hash = genesis_block.compute_hash()\n",
    "        self.chain.append(genesis_block) \n",
    "        \n",
    "        \n",
    "   # A method to handel Proof_of_Working:\n",
    "    def proof_of_work(self, block:Block) -> str:\n",
    "        computed_hash = block.compute_hash()\n",
    "        while not computed_hash.startswith('0' * self.difficulty):\n",
    "            block.nonce += 1\n",
    "            computed_hash = block.compute_hash()    \n",
    "        return computed_hash\n",
    "    \n",
    "    \n",
    "    # A method to confirm a block is valid:\n",
    "    def is_valid_proof(self, block:Block, block_hash:str) -> bool:\n",
    "        return block_hash.startswith('0' * self.difficulty) and block_hash == block.compute_hash()\n",
    "       \n",
    "        \n",
    "        \n",
    "    # A method to add our blocks to our blockchain:   \n",
    "    def add_block(self, block:Block, proof:str) -> bool:\n",
    "            last_block = self.get_last_block()\n",
    "            last_block.hash\n",
    "                       \n",
    "            if last_block.hash != block.previous_hash:\n",
    "                return False\n",
    "                       \n",
    "            if not is_valid_proof(block, proof):\n",
    "                return False\n",
    "                 \n",
    "            block.hash = proof\n",
    "            self.chain.append(block)\n",
    "            return True\n",
    "                       \n",
    "                       \n",
    "                      \n",
    "     # A method to add transactions into blocks:                    \n",
    "    def add_new_transaction(self, transaction:dict) -> None:\n",
    "        self.unconfirmed_transactions.append(transaction)\n",
    "        \n",
    "        \n",
    "        \n",
    "    # A method to mine unconfirmed transactions into blocks:\n",
    "    def mine (self) -> int: \n",
    "        if len (self.unconfirmed_transactions)<1:\n",
    "            return -1 # for invailed transactions\n",
    "        \n",
    "        last_block = self.get_last_block()\n",
    "        \n",
    "        \n",
    "        new_block = Block(index=last_block.index + 1,\n",
    "                          transactions=self.unconfirmed_transactions,\n",
    "                          timestamp=int(time.time()),\n",
    "                          previous_hash=last_block.hash)\n",
    "                       \n",
    "        proof = self.proof_of_work(new_block)\n",
    "        \n",
    "        if not  self.add_block(new_block,proof):\n",
    "            return -1\n",
    "        \n",
    "        self.unconfirmed_transactions = []\n",
    "        \n",
    "        return new_block.index\n",
    "                       \n",
    "        "
   ]
  },
  {
   "cell_type": "code",
   "execution_count": 7,
   "id": "40a266dc-7fc4-43b2-88b4-771f57df0003",
   "metadata": {},
   "outputs": [
    {
     "name": "stdout",
     "output_type": "stream",
     "text": [
      "{'__module__': '__main__', '__init__': <function Block.__init__ at 0x7fab7141b430>, 'compute_hash': <function Block.compute_hash at 0x7fab7141b4c0>, '__dict__': <attribute '__dict__' of 'Block' objects>, '__weakref__': <attribute '__weakref__' of 'Block' objects>, '__doc__': None}\n"
     ]
    }
   ],
   "source": [
    "print(Block.__dict__)"
   ]
  },
  {
   "cell_type": "code",
   "execution_count": 8,
   "id": "52b2ca7d-24d8-4eef-b1f2-127f1d608975",
   "metadata": {},
   "outputs": [
    {
     "data": {
      "text/plain": [
       "[None, None]"
      ]
     },
     "execution_count": 8,
     "metadata": {},
     "output_type": "execute_result"
    }
   ],
   "source": [
    "b_c = Blockchain()\n",
    "[b_c.add_new_transaction(tx) for tx in [tx_1,tx_2]]"
   ]
  },
  {
   "cell_type": "code",
   "execution_count": 9,
   "id": "e224148b-802f-416b-adbd-b163acc2f4db",
   "metadata": {},
   "outputs": [
    {
     "data": {
      "text/plain": [
       "[{'addr_from': '3J98t1WpEZ73CNmQviecrnyiWrnqRhWNLy',\n",
       "  'addr_to': '1BvBMSEYstWetqTFn5Au4m4GFg9xJaNVN2',\n",
       "  'amount': 95.0},\n",
       " {'addr_from': '1Bhghiojjjo7564hknkfvenyilkkhuafd',\n",
       "  'addr_to': '1BvBMSEYstWetqTFn5Au4m4GFg9xJaNVN2',\n",
       "  'amount': 99.0}]"
      ]
     },
     "execution_count": 9,
     "metadata": {},
     "output_type": "execute_result"
    }
   ],
   "source": [
    "b_c.unconfirmed_transactions"
   ]
  }
 ],
 "metadata": {
  "kernelspec": {
   "display_name": "Python 3",
   "language": "python",
   "name": "python3"
  },
  "language_info": {
   "codemirror_mode": {
    "name": "ipython",
    "version": 3
   },
   "file_extension": ".py",
   "mimetype": "text/x-python",
   "name": "python",
   "nbconvert_exporter": "python",
   "pygments_lexer": "ipython3",
   "version": "3.8.8"
  }
 },
 "nbformat": 4,
 "nbformat_minor": 5
}

{
 "cells": [
  {
   "cell_type": "markdown",
   "metadata": {},
   "source": [
    "Week 5, Assignment C1:\n",
    "\n",
    "Logistic Regression with Yahoo! Finance API in Python\n",
    "\n",
    "In this notebook, we will study Logistic Regression using the Yahoo! Finance API in Python.\n",
    "\n",
    "Please complete the lines bellow where you see \"#TODO\"."
   ]
  },
  {
   "cell_type": "code",
   "execution_count": 1,
   "metadata": {},
   "outputs": [],
   "source": [
    "#Objective 1.\n",
    "#Use this cell to import the Numpy (as np), Pandas (as pd), and YFinance (as yf) packages.\n",
    "\n",
    "import numpy as np\n",
    "import pandas as pd\n",
    "import yfinance as yf\n",
    "import sklearn\n",
    "import warnings\n",
    "warnings.filterwarnings(\"ignore\")\n",
    "\n",
    "\n",
    "#Our work will also require some components of the Sklearn and Pandas_Datareader packages as imported below:\n",
    "\n",
    "from sklearn.linear_model import LogisticRegression\n",
    "from sklearn import metrics\n",
    "from sklearn.model_selection import cross_val_score\n",
    "from pandas_datareader import data as pdr\n",
    "yf.pdr_override()"
   ]
  },
  {
   "cell_type": "code",
   "execution_count": 2,
   "metadata": {},
   "outputs": [],
   "source": [
    "#Objective 2.\n",
    "#Select a stock symbol for a stock whose historical data is available on the Yahoo! Finance website.  Store the\n",
    "#string of your chosen symbol to the new variable \"stock_symbol\".\n",
    "\n",
    "stock_symbol = 'AAPL'"
   ]
  },
  {
   "cell_type": "code",
   "execution_count": 3,
   "metadata": {},
   "outputs": [
    {
     "name": "stdout",
     "output_type": "stream",
     "text": [
      "[*********************100%***********************]  1 of 1 completed\n"
     ]
    },
    {
     "data": {
      "text/html": [
       "<div>\n",
       "<style scoped>\n",
       "    .dataframe tbody tr th:only-of-type {\n",
       "        vertical-align: middle;\n",
       "    }\n",
       "\n",
       "    .dataframe tbody tr th {\n",
       "        vertical-align: top;\n",
       "    }\n",
       "\n",
       "    .dataframe thead th {\n",
       "        text-align: right;\n",
       "    }\n",
       "</style>\n",
       "<table border=\"1\" class=\"dataframe\">\n",
       "  <thead>\n",
       "    <tr style=\"text-align: right;\">\n",
       "      <th></th>\n",
       "      <th>Open</th>\n",
       "      <th>High</th>\n",
       "      <th>Low</th>\n",
       "      <th>Close</th>\n",
       "    </tr>\n",
       "    <tr>\n",
       "      <th>Date</th>\n",
       "      <th></th>\n",
       "      <th></th>\n",
       "      <th></th>\n",
       "      <th></th>\n",
       "    </tr>\n",
       "  </thead>\n",
       "  <tbody>\n",
       "    <tr>\n",
       "      <th>2018-12-31</th>\n",
       "      <td>39.632500</td>\n",
       "      <td>39.840000</td>\n",
       "      <td>39.119999</td>\n",
       "      <td>39.435001</td>\n",
       "    </tr>\n",
       "    <tr>\n",
       "      <th>2019-01-02</th>\n",
       "      <td>38.722500</td>\n",
       "      <td>39.712502</td>\n",
       "      <td>38.557499</td>\n",
       "      <td>39.480000</td>\n",
       "    </tr>\n",
       "    <tr>\n",
       "      <th>2019-01-03</th>\n",
       "      <td>35.994999</td>\n",
       "      <td>36.430000</td>\n",
       "      <td>35.500000</td>\n",
       "      <td>35.547501</td>\n",
       "    </tr>\n",
       "    <tr>\n",
       "      <th>2019-01-04</th>\n",
       "      <td>36.132500</td>\n",
       "      <td>37.137501</td>\n",
       "      <td>35.950001</td>\n",
       "      <td>37.064999</td>\n",
       "    </tr>\n",
       "    <tr>\n",
       "      <th>2019-01-07</th>\n",
       "      <td>37.174999</td>\n",
       "      <td>37.207500</td>\n",
       "      <td>36.474998</td>\n",
       "      <td>36.982498</td>\n",
       "    </tr>\n",
       "    <tr>\n",
       "      <th>...</th>\n",
       "      <td>...</td>\n",
       "      <td>...</td>\n",
       "      <td>...</td>\n",
       "      <td>...</td>\n",
       "    </tr>\n",
       "    <tr>\n",
       "      <th>2020-12-24</th>\n",
       "      <td>131.320007</td>\n",
       "      <td>133.460007</td>\n",
       "      <td>131.100006</td>\n",
       "      <td>131.970001</td>\n",
       "    </tr>\n",
       "    <tr>\n",
       "      <th>2020-12-28</th>\n",
       "      <td>133.990005</td>\n",
       "      <td>137.339996</td>\n",
       "      <td>133.509995</td>\n",
       "      <td>136.690002</td>\n",
       "    </tr>\n",
       "    <tr>\n",
       "      <th>2020-12-29</th>\n",
       "      <td>138.050003</td>\n",
       "      <td>138.789993</td>\n",
       "      <td>134.339996</td>\n",
       "      <td>134.869995</td>\n",
       "    </tr>\n",
       "    <tr>\n",
       "      <th>2020-12-30</th>\n",
       "      <td>135.580002</td>\n",
       "      <td>135.990005</td>\n",
       "      <td>133.399994</td>\n",
       "      <td>133.720001</td>\n",
       "    </tr>\n",
       "    <tr>\n",
       "      <th>2020-12-31</th>\n",
       "      <td>134.080002</td>\n",
       "      <td>134.740005</td>\n",
       "      <td>131.720001</td>\n",
       "      <td>132.690002</td>\n",
       "    </tr>\n",
       "  </tbody>\n",
       "</table>\n",
       "<p>506 rows × 4 columns</p>\n",
       "</div>"
      ],
      "text/plain": [
       "                  Open        High         Low       Close\n",
       "Date                                                      \n",
       "2018-12-31   39.632500   39.840000   39.119999   39.435001\n",
       "2019-01-02   38.722500   39.712502   38.557499   39.480000\n",
       "2019-01-03   35.994999   36.430000   35.500000   35.547501\n",
       "2019-01-04   36.132500   37.137501   35.950001   37.064999\n",
       "2019-01-07   37.174999   37.207500   36.474998   36.982498\n",
       "...                ...         ...         ...         ...\n",
       "2020-12-24  131.320007  133.460007  131.100006  131.970001\n",
       "2020-12-28  133.990005  137.339996  133.509995  136.690002\n",
       "2020-12-29  138.050003  138.789993  134.339996  134.869995\n",
       "2020-12-30  135.580002  135.990005  133.399994  133.720001\n",
       "2020-12-31  134.080002  134.740005  131.720001  132.690002\n",
       "\n",
       "[506 rows x 4 columns]"
      ]
     },
     "execution_count": 3,
     "metadata": {},
     "output_type": "execute_result"
    }
   ],
   "source": [
    "#Objective 3.\n",
    "#Use the function \"pdr.get_data_yahoo(stock_symbol, start_date, end_date)\" to generate a Pandas dataframe of\n",
    "#historical stock data for your chosen stock.  Retain only the first four columns of the dataframe.  Be sure to \n",
    "#drop any rows containing NaN's, and take a peek at the resulting dataframe to make sure everything looks good.\n",
    "\n",
    "df = pdr.get_data_yahoo(stock_symbol, start=\"2019-01-01\", end=\"2021-01-01\")\n",
    "df = df[df.columns[0:4]]\n",
    "df = df[['Open', 'High', 'Low', 'Close']]\n",
    "df = df.dropna()\n",
    "df"
   ]
  },
  {
   "cell_type": "code",
   "execution_count": 4,
   "metadata": {},
   "outputs": [
    {
     "data": {
      "text/html": [
       "<div>\n",
       "<style scoped>\n",
       "    .dataframe tbody tr th:only-of-type {\n",
       "        vertical-align: middle;\n",
       "    }\n",
       "\n",
       "    .dataframe tbody tr th {\n",
       "        vertical-align: top;\n",
       "    }\n",
       "\n",
       "    .dataframe thead th {\n",
       "        text-align: right;\n",
       "    }\n",
       "</style>\n",
       "<table border=\"1\" class=\"dataframe\">\n",
       "  <thead>\n",
       "    <tr style=\"text-align: right;\">\n",
       "      <th></th>\n",
       "      <th>Open</th>\n",
       "      <th>High</th>\n",
       "      <th>Low</th>\n",
       "      <th>Close</th>\n",
       "      <th>Close_15_Rolling</th>\n",
       "      <th>Open_1_Change</th>\n",
       "    </tr>\n",
       "    <tr>\n",
       "      <th>Date</th>\n",
       "      <th></th>\n",
       "      <th></th>\n",
       "      <th></th>\n",
       "      <th></th>\n",
       "      <th></th>\n",
       "      <th></th>\n",
       "    </tr>\n",
       "  </thead>\n",
       "  <tbody>\n",
       "    <tr>\n",
       "      <th>2019-01-22</th>\n",
       "      <td>39.102501</td>\n",
       "      <td>39.182499</td>\n",
       "      <td>38.154999</td>\n",
       "      <td>38.325001</td>\n",
       "      <td>38.136333</td>\n",
       "      <td>-0.272499</td>\n",
       "    </tr>\n",
       "    <tr>\n",
       "      <th>2019-01-23</th>\n",
       "      <td>38.537498</td>\n",
       "      <td>38.785000</td>\n",
       "      <td>37.924999</td>\n",
       "      <td>38.480000</td>\n",
       "      <td>38.072667</td>\n",
       "      <td>-0.565002</td>\n",
       "    </tr>\n",
       "    <tr>\n",
       "      <th>2019-01-24</th>\n",
       "      <td>38.527500</td>\n",
       "      <td>38.619999</td>\n",
       "      <td>37.935001</td>\n",
       "      <td>38.174999</td>\n",
       "      <td>37.985667</td>\n",
       "      <td>-0.009998</td>\n",
       "    </tr>\n",
       "    <tr>\n",
       "      <th>2019-01-25</th>\n",
       "      <td>38.869999</td>\n",
       "      <td>39.532501</td>\n",
       "      <td>38.580002</td>\n",
       "      <td>39.439999</td>\n",
       "      <td>38.245167</td>\n",
       "      <td>0.342499</td>\n",
       "    </tr>\n",
       "    <tr>\n",
       "      <th>2019-01-28</th>\n",
       "      <td>38.947498</td>\n",
       "      <td>39.082500</td>\n",
       "      <td>38.415001</td>\n",
       "      <td>39.075001</td>\n",
       "      <td>38.379167</td>\n",
       "      <td>0.077499</td>\n",
       "    </tr>\n",
       "    <tr>\n",
       "      <th>...</th>\n",
       "      <td>...</td>\n",
       "      <td>...</td>\n",
       "      <td>...</td>\n",
       "      <td>...</td>\n",
       "      <td>...</td>\n",
       "      <td>...</td>\n",
       "    </tr>\n",
       "    <tr>\n",
       "      <th>2020-12-24</th>\n",
       "      <td>131.320007</td>\n",
       "      <td>133.460007</td>\n",
       "      <td>131.100006</td>\n",
       "      <td>131.970001</td>\n",
       "      <td>126.245333</td>\n",
       "      <td>-0.839996</td>\n",
       "    </tr>\n",
       "    <tr>\n",
       "      <th>2020-12-28</th>\n",
       "      <td>133.990005</td>\n",
       "      <td>137.339996</td>\n",
       "      <td>133.509995</td>\n",
       "      <td>136.690002</td>\n",
       "      <td>127.208000</td>\n",
       "      <td>2.669998</td>\n",
       "    </tr>\n",
       "    <tr>\n",
       "      <th>2020-12-29</th>\n",
       "      <td>138.050003</td>\n",
       "      <td>138.789993</td>\n",
       "      <td>134.339996</td>\n",
       "      <td>134.869995</td>\n",
       "      <td>127.949333</td>\n",
       "      <td>4.059998</td>\n",
       "    </tr>\n",
       "    <tr>\n",
       "      <th>2020-12-30</th>\n",
       "      <td>135.580002</td>\n",
       "      <td>135.990005</td>\n",
       "      <td>133.399994</td>\n",
       "      <td>133.720001</td>\n",
       "      <td>128.572000</td>\n",
       "      <td>-2.470001</td>\n",
       "    </tr>\n",
       "    <tr>\n",
       "      <th>2020-12-31</th>\n",
       "      <td>134.080002</td>\n",
       "      <td>134.740005</td>\n",
       "      <td>131.720001</td>\n",
       "      <td>132.690002</td>\n",
       "      <td>129.299334</td>\n",
       "      <td>-1.500000</td>\n",
       "    </tr>\n",
       "  </tbody>\n",
       "</table>\n",
       "<p>492 rows × 6 columns</p>\n",
       "</div>"
      ],
      "text/plain": [
       "                  Open        High         Low       Close  Close_15_Rolling  \\\n",
       "Date                                                                           \n",
       "2019-01-22   39.102501   39.182499   38.154999   38.325001         38.136333   \n",
       "2019-01-23   38.537498   38.785000   37.924999   38.480000         38.072667   \n",
       "2019-01-24   38.527500   38.619999   37.935001   38.174999         37.985667   \n",
       "2019-01-25   38.869999   39.532501   38.580002   39.439999         38.245167   \n",
       "2019-01-28   38.947498   39.082500   38.415001   39.075001         38.379167   \n",
       "...                ...         ...         ...         ...               ...   \n",
       "2020-12-24  131.320007  133.460007  131.100006  131.970001        126.245333   \n",
       "2020-12-28  133.990005  137.339996  133.509995  136.690002        127.208000   \n",
       "2020-12-29  138.050003  138.789993  134.339996  134.869995        127.949333   \n",
       "2020-12-30  135.580002  135.990005  133.399994  133.720001        128.572000   \n",
       "2020-12-31  134.080002  134.740005  131.720001  132.690002        129.299334   \n",
       "\n",
       "            Open_1_Change  \n",
       "Date                       \n",
       "2019-01-22      -0.272499  \n",
       "2019-01-23      -0.565002  \n",
       "2019-01-24      -0.009998  \n",
       "2019-01-25       0.342499  \n",
       "2019-01-28       0.077499  \n",
       "...                   ...  \n",
       "2020-12-24      -0.839996  \n",
       "2020-12-28       2.669998  \n",
       "2020-12-29       4.059998  \n",
       "2020-12-30      -2.470001  \n",
       "2020-12-31      -1.500000  \n",
       "\n",
       "[492 rows x 6 columns]"
      ]
     },
     "execution_count": 4,
     "metadata": {},
     "output_type": "execute_result"
    }
   ],
   "source": [
    "#Objective 4.\n",
    "#Use the historical data to define some predictor variables.  Add these variables to the dataframe.  Include, at a\n",
    "#minimum, (Predictor.I) the rolling average closing price over the past fifteen (15) days and (Predictor.II) the\n",
    "#change in opening price over the past one (1) day.  Be sure to again drop any rows containing NaN's, and take a\n",
    "#peek at the resulting dataframe to make sure everything looks good.  Store the dataframe as the new variable \"X\".\n",
    "\n",
    "df['Close_15_Rolling'] = df['Close'].rolling(window = 15).mean()\n",
    "df['Open_1_Change'] = df['Open'] .diff()\n",
    "df = df.dropna()\n",
    "X = df\n",
    "X"
   ]
  },
  {
   "cell_type": "code",
   "execution_count": 5,
   "metadata": {},
   "outputs": [],
   "source": [
    "#Objective 5.\n",
    "#Define the target or dependent variable to be one (1) if the change in closing price over the past one (1) day is\n",
    "#nonnegative and negative one (-1) if the change in closing price over the past one (1) day is negative.  This\n",
    "#variable's values should be forward-looking (i.e., you should subtract today's price from tomorrow's price rather\n",
    "#than subtracting yesterday's price from today's price).  Store the resulting values as the new variable \"y\".  You\n",
    "#may find the \"np.where(*args)\" function to be useful.  Look it up in Numpy documentation for support.\n",
    "\n",
    "y = np.where((df.Close.shift(-1)-df['Close'])>=0,1,-1)"
   ]
  },
  {
   "cell_type": "code",
   "execution_count": 6,
   "metadata": {},
   "outputs": [],
   "source": [
    "#Objective 6.\n",
    "#Split the data into training and test sets, putting the first seventy percent (70%) of the data in the training\n",
    "#set.\n",
    "\n",
    "index = int(0.7*len(X))\n",
    "X_train = X[:index]\n",
    "X_test = X[index:]\n",
    "y_train = y[:index]\n",
    "y_test = y[index:]"
   ]
  },
  {
   "cell_type": "code",
   "execution_count": 7,
   "metadata": {},
   "outputs": [],
   "source": [
    "#Objective 7.\n",
    "#Instantiate the Logistic Regression model object, and use its \".fit(*args)\" method to fit the model to the \n",
    "#training data.\n",
    "\n",
    "logistic = LogisticRegression()\n",
    "logistic = logistic.fit(X_train,y_train)"
   ]
  },
  {
   "cell_type": "code",
   "execution_count": 8,
   "metadata": {},
   "outputs": [
    {
     "data": {
      "text/html": [
       "<div>\n",
       "<style scoped>\n",
       "    .dataframe tbody tr th:only-of-type {\n",
       "        vertical-align: middle;\n",
       "    }\n",
       "\n",
       "    .dataframe tbody tr th {\n",
       "        vertical-align: top;\n",
       "    }\n",
       "\n",
       "    .dataframe thead th {\n",
       "        text-align: right;\n",
       "    }\n",
       "</style>\n",
       "<table border=\"1\" class=\"dataframe\">\n",
       "  <thead>\n",
       "    <tr style=\"text-align: right;\">\n",
       "      <th></th>\n",
       "      <th>column</th>\n",
       "      <th>b</th>\n",
       "    </tr>\n",
       "  </thead>\n",
       "  <tbody>\n",
       "    <tr>\n",
       "      <th>0</th>\n",
       "      <td>Open</td>\n",
       "      <td>0.444820</td>\n",
       "    </tr>\n",
       "    <tr>\n",
       "      <th>1</th>\n",
       "      <td>High</td>\n",
       "      <td>-0.127777</td>\n",
       "    </tr>\n",
       "    <tr>\n",
       "      <th>2</th>\n",
       "      <td>Low</td>\n",
       "      <td>0.090477</td>\n",
       "    </tr>\n",
       "    <tr>\n",
       "      <th>3</th>\n",
       "      <td>Close</td>\n",
       "      <td>-0.337460</td>\n",
       "    </tr>\n",
       "    <tr>\n",
       "      <th>4</th>\n",
       "      <td>Close_15_Rolling</td>\n",
       "      <td>-0.070364</td>\n",
       "    </tr>\n",
       "    <tr>\n",
       "      <th>5</th>\n",
       "      <td>Open_1_Change</td>\n",
       "      <td>-0.175884</td>\n",
       "    </tr>\n",
       "  </tbody>\n",
       "</table>\n",
       "</div>"
      ],
      "text/plain": [
       "             column         b\n",
       "0              Open  0.444820\n",
       "1              High -0.127777\n",
       "2               Low  0.090477\n",
       "3             Close -0.337460\n",
       "4  Close_15_Rolling -0.070364\n",
       "5     Open_1_Change -0.175884"
      ]
     },
     "execution_count": 8,
     "metadata": {},
     "output_type": "execute_result"
    }
   ],
   "source": [
    "#Objective 8.\n",
    "#Examine the model's coefficients by using its \".coef_\" method.\n",
    "\n",
    "#pd.DataFrame(zip(X.columns, np.transpose(logistic.coef_)))\n",
    "\n",
    "pd.DataFrame({'column':X.columns.values,'b':logistic.coef_.ravel()})"
   ]
  },
  {
   "cell_type": "code",
   "execution_count": 9,
   "metadata": {
    "tags": []
   },
   "outputs": [],
   "source": [
    "#Objective 9.\n",
    "#Use the model's \".predict_proba(*args)\" and \".predict(*args)\" methods to generate predictions over the test set.\n",
    "\n",
    "probabilities = logistic.predict_proba(X_test)\n",
    "predictions = logistic.predict(X_test)"
   ]
  },
  {
   "cell_type": "code",
   "execution_count": 10,
   "metadata": {},
   "outputs": [
    {
     "data": {
      "text/plain": [
       "array([[30, 35],\n",
       "       [33, 50]])"
      ]
     },
     "execution_count": 10,
     "metadata": {},
     "output_type": "execute_result"
    }
   ],
   "source": [
    "#Objective 10.\n",
    "#Use the function \"metrics.confusion_matrix(*args)\" to create a confusion matrix comparing the predicted and true\n",
    "#classification labels over the test set.\n",
    "\n",
    "sklearn.metrics.confusion_matrix(y_pred = predictions,y_true= y_test )"
   ]
  },
  {
   "cell_type": "code",
   "execution_count": 11,
   "metadata": {},
   "outputs": [
    {
     "name": "stdout",
     "output_type": "stream",
     "text": [
      "              precision    recall  f1-score   support\n",
      "\n",
      "          -1       0.48      0.46      0.47        65\n",
      "           1       0.59      0.60      0.60        83\n",
      "\n",
      "    accuracy                           0.54       148\n",
      "   macro avg       0.53      0.53      0.53       148\n",
      "weighted avg       0.54      0.54      0.54       148\n",
      "\n"
     ]
    }
   ],
   "source": [
    "# Alternative method using report classfication \n",
    "\n",
    "print(sklearn.metrics.classification_report(y_pred = predictions,y_true= y_test))"
   ]
  },
  {
   "cell_type": "code",
   "execution_count": 12,
   "metadata": {},
   "outputs": [
    {
     "data": {
      "text/plain": [
       "0.5405405405405406"
      ]
     },
     "execution_count": 12,
     "metadata": {},
     "output_type": "execute_result"
    }
   ],
   "source": [
    "#Objective 11.\n",
    "#Calculate the model's accuracy on the test set using its \".score(*args)\" method.\n",
    "\n",
    "logistic.score(X_test,y_test)"
   ]
  },
  {
   "cell_type": "code",
   "execution_count": 21,
   "metadata": {},
   "outputs": [
    {
     "data": {
      "text/plain": [
       "array([0.54545455, 0.55555556, 0.56122449, 0.64285714, 0.58163265])"
      ]
     },
     "execution_count": 21,
     "metadata": {},
     "output_type": "execute_result"
    }
   ],
   "source": [
    "#Objective 12.\n",
    "#Use five-fold cross validation to cross-check the accuracy of the model over different held-out test sets.  This\n",
    "#is where you should use the function \"cross_val_score(*args)\".\n",
    "\n",
    "cross_val= cross_val_score(LogisticRegression(), X, y, cv=5)\n",
    "cross_val"
   ]
  },
  {
   "cell_type": "code",
   "execution_count": 22,
   "metadata": {},
   "outputs": [
    {
     "data": {
      "text/plain": [
       "0.5773448773448774"
      ]
     },
     "execution_count": 22,
     "metadata": {},
     "output_type": "execute_result"
    }
   ],
   "source": [
    "np.mean(cross_val)"
   ]
  }
 ],
 "metadata": {
  "kernelspec": {
   "display_name": "Python 3",
   "language": "python",
   "name": "python3"
  },
  "language_info": {
   "codemirror_mode": {
    "name": "ipython",
    "version": 3
   },
   "file_extension": ".py",
   "mimetype": "text/x-python",
   "name": "python",
   "nbconvert_exporter": "python",
   "pygments_lexer": "ipython3",
   "version": "3.8.8"
  }
 },
 "nbformat": 4,
 "nbformat_minor": 4
}
